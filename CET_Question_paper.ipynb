{
 "cells": [
  {
   "cell_type": "code",
   "execution_count": 42,
   "metadata": {},
   "outputs": [],
   "source": [
    "import mysql.connector\n",
    "import pandas\n",
    "import os\n",
    "from sklearn.utils import shuffle\n",
    "import random\n",
    "import operator"
   ]
  },
  {
   "cell_type": "code",
   "execution_count": 43,
   "metadata": {},
   "outputs": [],
   "source": [
    "con=mysql.connector.connect(user=\"\",password=\"\",host=\"localhost\",database=\"chatbot_mcq\")"
   ]
  },
  {
   "cell_type": "code",
   "execution_count": 44,
   "metadata": {},
   "outputs": [],
   "source": [
    "cursor=con.cursor()"
   ]
  },
  {
   "cell_type": "code",
   "execution_count": 45,
   "metadata": {},
   "outputs": [],
   "source": [
    "# query=\"select * from questions\"\n",
    "# results=pandas.read_sql_query(query,con)"
   ]
  },
  {
   "cell_type": "code",
   "execution_count": 46,
   "metadata": {},
   "outputs": [],
   "source": [
    "# results.to_csv(\"Output.csv\",index=False)"
   ]
  },
  {
   "cell_type": "code",
   "execution_count": 47,
   "metadata": {},
   "outputs": [],
   "source": [
    "sub_query=\"select subject_name from Subjects\"\n",
    "get_subjects=pandas.read_sql_query(sub_query,con)"
   ]
  },
  {
   "cell_type": "markdown",
   "metadata": {},
   "source": [
    "select id from subjects table based on subject name\n",
    "select columns from questions table based on id and generate csv files with \"Subject name_file\""
   ]
  },
  {
   "cell_type": "code",
   "execution_count": 48,
   "metadata": {},
   "outputs": [
    {
     "name": "stdout",
     "output_type": "stream",
     "text": [
      "   id  exam  subject       question     answer_a        answer_b  \\\n",
      "0   2     1        1  ddsfsdfsdfsdf         test  test 2dfgdfgdf   \n",
      "1   4     1        1     gdfgdfgdfg       vxvxcv         xcvxcvx   \n",
      "2   5     1        1         dsdfsf  sdfsdfdfsdf         sdfsdfs   \n",
      "3   6     1        1    gdfgdgdfgfd       fdfsdf       fsdfsdfds   \n",
      "4   7     1        1         zdfsdf        dfsdf          dsfsdf   \n",
      "\n",
      "       answer_c         answer_d          answer_e correct  \n",
      "0  test 3fgdgdf  test 4 dfgdfgdf  test 5 dfgdfgdfg       a  \n",
      "1       cvxcvcx           cvxvxc          xcvxcvxc       b  \n",
      "2      sdfsdfsd         sdfsdfds          dsfsdfsd       b  \n",
      "3         dfsdf            dfsdf           dfsdfsd       a  \n",
      "4        sdfsdf            sdfsf            sdfsdf       a  \n",
      "   id  exam  subject question   answer_a   answer_b  answer_c   answer_d  \\\n",
      "0   1     2        2   dsfsdf     sdfsdf     sdfdsf    sdfsdf     dsfsdf   \n",
      "1   3     1        2  dfdfdsf  sdfsdfsdf  sdfsdfsdf  sdfsdfsd  dsfsdfsdf   \n",
      "2   9     1        2     hgjg       jasg     jhjdsj   jdshjdf    jsdfhsd   \n",
      "\n",
      "    answer_e correct  \n",
      "0  dfsfsdfds       a  \n",
      "1  dsfsdfsdf       b  \n",
      "2     jsdfhs       a  \n",
      "Empty DataFrame\n",
      "Columns: [id, exam, subject, question, answer_a, answer_b, answer_c, answer_d, answer_e, correct]\n",
      "Index: []\n",
      "Empty DataFrame\n",
      "Columns: [id, exam, subject, question, answer_a, answer_b, answer_c, answer_d, answer_e, correct]\n",
      "Index: []\n",
      "Empty DataFrame\n",
      "Columns: [id, exam, subject, question, answer_a, answer_b, answer_c, answer_d, answer_e, correct]\n",
      "Index: []\n"
     ]
    }
   ],
   "source": [
    "for i in get_subjects.iloc[:,0]:\n",
    "    get_id=pandas.read_sql_query(\"select id from subjects where subject_name = '\"+i+\"' \",con)\n",
    "    ques= pandas.read_sql_query(\"SELECT id,exam,subject,question,answer_a,answer_b,answer_c,answer_d,answer_e,correct FROM QUESTIONS WHERE SUBJECT = %d\" %get_id.iloc[:,0],con)\n",
    "    ques.to_csv(str(i)+\".csv\",index=False)\n",
    "    print(ques.head())"
   ]
  },
  {
   "cell_type": "markdown",
   "metadata": {},
   "source": [
    "To get subject names list from the location "
   ]
  },
  {
   "cell_type": "code",
   "execution_count": 49,
   "metadata": {},
   "outputs": [],
   "source": [
    "path='C:\\\\Users\\\\reema save\\\\Downloads\\\\chatbot'\n",
    "new_table_list=[]\n",
    "for filename in os.listdir(path):\n",
    "    if filename.endswith('.csv'):\n",
    "        new_table_list.append(filename.split(\".\")[0])"
   ]
  },
  {
   "cell_type": "markdown",
   "metadata": {},
   "source": [
    "Displaying subject list and taking input "
   ]
  },
  {
   "cell_type": "code",
   "execution_count": 50,
   "metadata": {},
   "outputs": [
    {
     "name": "stdout",
     "output_type": "stream",
     "text": [
      "['Biology', 'Chemistry', 'History 1', 'Mathematics', 'Physics']\n",
      "Enter subjectbiology\n"
     ]
    }
   ],
   "source": [
    "print(new_table_list)\n",
    "subject_input=input(\"Enter subject\")"
   ]
  },
  {
   "cell_type": "markdown",
   "metadata": {},
   "source": [
    "Accessing csv files from the location and selecting required columns shuffling the rows and options from selected subject csv"
   ]
  },
  {
   "cell_type": "code",
   "execution_count": 54,
   "metadata": {},
   "outputs": [
    {
     "data": {
      "text/html": [
       "<div>\n",
       "<style scoped>\n",
       "    .dataframe tbody tr th:only-of-type {\n",
       "        vertical-align: middle;\n",
       "    }\n",
       "\n",
       "    .dataframe tbody tr th {\n",
       "        vertical-align: top;\n",
       "    }\n",
       "\n",
       "    .dataframe thead th {\n",
       "        text-align: right;\n",
       "    }\n",
       "</style>\n",
       "<table border=\"1\" class=\"dataframe\">\n",
       "  <thead>\n",
       "    <tr style=\"text-align: right;\">\n",
       "      <th></th>\n",
       "      <th>question</th>\n",
       "      <th>answer_c</th>\n",
       "      <th>answer_b</th>\n",
       "      <th>answer_a</th>\n",
       "      <th>answer_d</th>\n",
       "      <th>answer_e</th>\n",
       "      <th>correct</th>\n",
       "    </tr>\n",
       "  </thead>\n",
       "  <tbody>\n",
       "  </tbody>\n",
       "</table>\n",
       "</div>"
      ],
      "text/plain": [
       "Empty DataFrame\n",
       "Columns: [question, answer_c, answer_b, answer_a, answer_d, answer_e, correct]\n",
       "Index: []"
      ]
     },
     "execution_count": 54,
     "metadata": {},
     "output_type": "execute_result"
    }
   ],
   "source": [
    "user_Info=pandas.DataFrame\n",
    "# for i in new_table_list:\n",
    "user_Info = pandas.read_csv('C:\\\\Users\\\\reema save\\\\Downloads\\\\chatbot\\\\'+subject_input+'.csv',\n",
    "                                usecols=['question','answer_a','answer_b','answer_c','answer_d','answer_e','correct'])\n",
    "ques_set=shuffle(user_Info)\n",
    "    \n",
    "cols = ques_set.columns.tolist()        \n",
    "corr_ans=cols[-1]\n",
    "ques=cols[0]\n",
    "    \n",
    "cols=shuffle(cols[-2:-1]+cols[1:5])\n",
    "\n",
    "ques_set_ques=ques_set[ques_set.columns[0]].to_frame(name=\"question\")#without to frame also it works\n",
    "ques_set_ans=ques_set[ques_set.columns[-1]].to_frame(name=\"correct\")#without to frame also it works\n",
    "\n",
    "#     #type(ques_set)\n",
    "\n",
    "\n",
    "\n",
    "frame=[ques_set_ques,ques_set[cols],ques_set_ans]\n",
    "\n",
    "ques_set=pandas.concat(frame,axis=1)\n",
    "    \n",
    "# if(i==subject_input):\n",
    "#     break\n",
    "ques_set.head(5)\n",
    "#     print(str(ques_set)+\"/n############################################################333/n\")"
   ]
  },
  {
   "cell_type": "code",
   "execution_count": 53,
   "metadata": {},
   "outputs": [
    {
     "data": {
      "text/html": [
       "<div>\n",
       "<style scoped>\n",
       "    .dataframe tbody tr th:only-of-type {\n",
       "        vertical-align: middle;\n",
       "    }\n",
       "\n",
       "    .dataframe tbody tr th {\n",
       "        vertical-align: top;\n",
       "    }\n",
       "\n",
       "    .dataframe thead th {\n",
       "        text-align: right;\n",
       "    }\n",
       "</style>\n",
       "<table border=\"1\" class=\"dataframe\">\n",
       "  <thead>\n",
       "    <tr style=\"text-align: right;\">\n",
       "      <th></th>\n",
       "      <th>question</th>\n",
       "      <th>answer_d</th>\n",
       "      <th>answer_e</th>\n",
       "      <th>answer_a</th>\n",
       "      <th>answer_c</th>\n",
       "      <th>answer_b</th>\n",
       "      <th>correct</th>\n",
       "    </tr>\n",
       "  </thead>\n",
       "  <tbody>\n",
       "  </tbody>\n",
       "</table>\n",
       "</div>"
      ],
      "text/plain": [
       "Empty DataFrame\n",
       "Columns: [question, answer_d, answer_e, answer_a, answer_c, answer_b, correct]\n",
       "Index: []"
      ]
     },
     "execution_count": 53,
     "metadata": {},
     "output_type": "execute_result"
    }
   ],
   "source": [
    "ques_set.head(5)"
   ]
  },
  {
   "cell_type": "code",
   "execution_count": null,
   "metadata": {},
   "outputs": [],
   "source": []
  },
  {
   "cell_type": "code",
   "execution_count": null,
   "metadata": {},
   "outputs": [],
   "source": []
  },
  {
   "cell_type": "code",
   "execution_count": null,
   "metadata": {},
   "outputs": [],
   "source": []
  }
 ],
 "metadata": {
  "kernelspec": {
   "display_name": "Python 3",
   "language": "python",
   "name": "python3"
  },
  "language_info": {
   "codemirror_mode": {
    "name": "ipython",
    "version": 3
   },
   "file_extension": ".py",
   "mimetype": "text/x-python",
   "name": "python",
   "nbconvert_exporter": "python",
   "pygments_lexer": "ipython3",
   "version": "3.6.5"
  }
 },
 "nbformat": 4,
 "nbformat_minor": 2
}
